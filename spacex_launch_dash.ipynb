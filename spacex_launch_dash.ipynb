{
 "cells": [
  {
   "cell_type": "code",
   "execution_count": 1,
   "id": "56044a54-d8bd-47dd-8738-4a9c67f34dda",
   "metadata": {
    "editable": true,
    "slideshow": {
     "slide_type": ""
    },
    "tags": []
   },
   "outputs": [],
   "source": [
    "# Import required libraries\n",
    "import numpy as np\n",
    "import pandas as pd\n",
    "import dash\n",
    "from dash import html\n",
    "from dash import dcc\n",
    "from dash.dependencies import Input, Output\n",
    "import plotly.express as px"
   ]
  },
  {
   "cell_type": "code",
   "execution_count": 2,
   "id": "95fe4216-6392-4fac-9eb5-fb09198df344",
   "metadata": {},
   "outputs": [],
   "source": [
    "# Read the airline data into pandas dataframe\n",
    "spacex_df = pd.read_csv(\"spacex_launch_dash.csv\")\n",
    "max_payload = spacex_df['Payload Mass (kg)'].max()\n",
    "min_payload = spacex_df['Payload Mass (kg)'].min()\n",
    "lista = ['ALL']\n",
    "lista.extend(set(spacex_df['Launch Site']))"
   ]
  },
  {
   "cell_type": "code",
   "execution_count": 3,
   "id": "11171944-42c4-4e8d-9f1d-fdcdbd4eb964",
   "metadata": {},
   "outputs": [],
   "source": [
    "# Create a dash application\n",
    "app = dash.Dash(__name__)\n",
    "\n",
    "# Create an app layout\n",
    "app.layout = html.Div(children=[html.H1('SpaceX Launch Records Dashboard',\n",
    "                                        style={'textAlign': 'center', 'color': '#503D36',\n",
    "                                               'font-size': 40}),\n",
    "                                # TASK 1: Add a dropdown list to enable Launch Site selection\n",
    "                                # The default select value is for ALL sites\n",
    "                                dcc.Dropdown(id='site-dropdown',\n",
    "                                             options=lista,\n",
    "                                             value='ALL',\n",
    "                                             #placeholder=\"place holder here\",\n",
    "                                             searchable=True), \n",
    "                                html.Br(),\n",
    "\n",
    "                                # TASK 2: Add a pie chart to show the total successful launches count for all sites\n",
    "                                # If a specific launch site was selected, show the Success vs. Failed counts for the site\n",
    "                                html.Div(dcc.Graph(id='success-pie-chart')),\n",
    "                                html.Br(),\n",
    "                                \n",
    "                                html.P(\"Payload range (Kg):\"),\n",
    "                                # TASK 3: Add a slider to select payload range\n",
    "                                dcc.RangeSlider(id='payload-slider',\n",
    "                                                min=0, max=10000, step=1000,\n",
    "                                                value=[min_payload, max_payload]),\n",
    "                                # TASK 4: Add a scatter chart to show the correlation between payload and launch success\n",
    "                                html.Div(dcc.Graph(id='success-payload-scatter-chart')),\n",
    "                                ])\n",
    "# Function decorator to specify function input and output\n",
    "@app.callback(Output(component_id='success-pie-chart', component_property='figure'),\n",
    "              Input(component_id='site-dropdown', component_property='value'))\n",
    "def get_pie_chart(entered_site):\n",
    "    labels=spacex_df['Launch Site']\n",
    "    values=spacex_df['class']\n",
    "    if entered_site == 'ALL':\n",
    "        fig = px.pie(spacex_df, values='class', names='Launch Site', title='All Launch Sites Success Rate')\n",
    "        return fig\n",
    "    else:\n",
    "        filtered_df = spacex_df[spacex_df['Launch Site'] == entered_site]\n",
    "        # count 0' and 1's\n",
    "        count = filtered_df['class'].value_counts()\n",
    "        fig = px.pie(filtered_df,values=count.tolist(),names=['Failure','Success'],title=entered_site)\n",
    "        return fig\n",
    "\n",
    "@app.callback(Output(component_id='success-payload-scatter-chart', component_property='figure'),\n",
    "              [Input(component_id='site-dropdown', component_property='value'), Input(component_id=\"payload-slider\", component_property=\"value\")])\n",
    "def get_scatter_chart(entered_site, payload_values):\n",
    "    if(entered_site=='ALL'):\n",
    "        filtered_df = spacex_df[(spacex_df['Payload Mass (kg)'] > payload_values[0]) & (spacex_df['Payload Mass (kg)'] < payload_values[1])]\n",
    "        fig = px.scatter(filtered_df, x='Payload Mass (kg)', y='class', color=\"Booster Version Category\")\n",
    "        return fig\n",
    "    else:\n",
    "        filtered_df = spacex_df[(spacex_df['Launch Site'] == entered_site) & (spacex_df['Payload Mass (kg)'] > payload_values[0]) & (spacex_df['Payload Mass (kg)'] < payload_values[1])]\n",
    "        fig = px.scatter(filtered_df, x='Payload Mass (kg)', y='class', color=\"Booster Version Category\")\n",
    "        return fig"
   ]
  },
  {
   "cell_type": "code",
   "execution_count": 4,
   "id": "ab0f6e30-2986-4bf2-be8f-62028d385d03",
   "metadata": {},
   "outputs": [
    {
     "data": {
      "text/html": [
       "\n",
       "        <iframe\n",
       "            width=\"100%\"\n",
       "            height=\"650\"\n",
       "            src=\"http://127.0.0.1:8080/\"\n",
       "            frameborder=\"0\"\n",
       "            allowfullscreen\n",
       "            \n",
       "        ></iframe>\n",
       "        "
      ],
      "text/plain": [
       "<IPython.lib.display.IFrame at 0x21653d94a00>"
      ]
     },
     "metadata": {},
     "output_type": "display_data"
    }
   ],
   "source": [
    "# Run the app\n",
    "if __name__ == '__main__':\n",
    "    app.run(port=8080)"
   ]
  },
  {
   "cell_type": "code",
   "execution_count": null,
   "id": "f014bff8-0c7f-4145-b17b-4ebc78aca416",
   "metadata": {
    "editable": true,
    "slideshow": {
     "slide_type": ""
    },
    "tags": []
   },
   "outputs": [],
   "source": []
  }
 ],
 "metadata": {
  "kernelspec": {
   "display_name": "Python 3 (ipykernel)",
   "language": "python",
   "name": "python3"
  },
  "language_info": {
   "codemirror_mode": {
    "name": "ipython",
    "version": 3
   },
   "file_extension": ".py",
   "mimetype": "text/x-python",
   "name": "python",
   "nbconvert_exporter": "python",
   "pygments_lexer": "ipython3",
   "version": "3.10.14"
  }
 },
 "nbformat": 4,
 "nbformat_minor": 5
}
